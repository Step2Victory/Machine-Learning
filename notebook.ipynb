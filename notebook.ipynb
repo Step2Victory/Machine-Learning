{
 "cells": [
  {
   "cell_type": "code",
   "execution_count": 2,
   "metadata": {},
   "outputs": [],
   "source": [
    "import pandas as pd"
   ]
  },
  {
   "cell_type": "code",
   "execution_count": 5,
   "metadata": {
    "scrolled": false
   },
   "outputs": [
    {
     "name": "stdout",
     "output_type": "stream",
     "text": [
      "<class 'pandas.core.frame.DataFrame'>\n",
      "RangeIndex: 3584 entries, 0 to 3583\n",
      "Data columns (total 25 columns):\n",
      " #   Column                Non-Null Count  Dtype  \n",
      "---  ------                --------------  -----  \n",
      " 0   PlanetIdentifier      3584 non-null   object \n",
      " 1   TypeFlag              3584 non-null   int64  \n",
      " 2   PlanetaryMassJpt      1313 non-null   float64\n",
      " 3   RadiusJpt             2774 non-null   float64\n",
      " 4   PeriodDays            3485 non-null   float64\n",
      " 5   SemiMajorAxisAU       1406 non-null   float64\n",
      " 6   Eccentricity          1108 non-null   float64\n",
      " 7   PeriastronDeg         328 non-null    float64\n",
      " 8   LongitudeDeg          43 non-null     float64\n",
      " 9   AscendingNodeDeg      46 non-null     float64\n",
      " 10  InclinationDeg        665 non-null    float64\n",
      " 11  SurfaceTempK          741 non-null    float64\n",
      " 12  AgeGyr                2 non-null      float64\n",
      " 13  DiscoveryMethod       3521 non-null   object \n",
      " 14  DiscoveryYear         3574 non-null   float64\n",
      " 15  LastUpdated           3576 non-null   object \n",
      " 16  RightAscension        3574 non-null   object \n",
      " 17  Declination           3574 non-null   object \n",
      " 18  DistFromSunParsec     2133 non-null   float64\n",
      " 19  HostStarMassSlrMass   3416 non-null   float64\n",
      " 20  HostStarRadiusSlrRad  3263 non-null   float64\n",
      " 21  HostStarMetallicity   2509 non-null   float64\n",
      " 22  HostStarTempK         3455 non-null   float64\n",
      " 23  HostStarAgeGyr        517 non-null    float64\n",
      " 24  ListsPlanetIsOn       3584 non-null   object \n",
      "dtypes: float64(18), int64(1), object(6)\n",
      "memory usage: 700.1+ KB\n"
     ]
    }
   ],
   "source": [
    "data = pd.read_csv(\"oec.csv\")\n",
    "data.info()"
   ]
  },
  {
   "cell_type": "code",
   "execution_count": 6,
   "metadata": {},
   "outputs": [
    {
     "data": {
      "text/plain": [
       "Confirmed planets                                                                     3295\n",
       "Confirmed planets, Planets in binary systems, S-type                                   135\n",
       "Controversial                                                                           72\n",
       "Confirmed planets, Planets in binary systems, P-type                                    21\n",
       "Controversial, Planets in binary systems, S-type                                        20\n",
       "Confirmed planets, Planets in open clusters                                             13\n",
       "Solar System                                                                             9\n",
       "Controversial, Planets in binary systems, P-type                                         7\n",
       "Kepler Objects of Interest                                                               4\n",
       "Retracted planet candidate                                                               4\n",
       "Confirmed planets, Orphan planets                                                        2\n",
       "Planets in binary systems, S-type, Confirmed planets                                     1\n",
       "Confirmed planets, Planets in binary systems, P-type, Planets in globular clusters       1\n",
       "Name: ListsPlanetIsOn, dtype: int64"
      ]
     },
     "execution_count": 6,
     "metadata": {},
     "output_type": "execute_result"
    }
   ],
   "source": [
    "data['ListsPlanetIsOn'].value_counts()"
   ]
  },
  {
   "cell_type": "code",
   "execution_count": null,
   "metadata": {},
   "outputs": [],
   "source": []
  }
 ],
 "metadata": {
  "kernelspec": {
   "display_name": "Python 3",
   "language": "python",
   "name": "python3"
  },
  "language_info": {
   "codemirror_mode": {
    "name": "ipython",
    "version": 3
   },
   "file_extension": ".py",
   "mimetype": "text/x-python",
   "name": "python",
   "nbconvert_exporter": "python",
   "pygments_lexer": "ipython3",
   "version": "3.8.3"
  }
 },
 "nbformat": 4,
 "nbformat_minor": 4
}
